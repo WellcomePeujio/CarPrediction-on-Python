{
  "nbformat": 4,
  "nbformat_minor": 0,
  "metadata": {
    "colab": {
      "name": "Top Python Interview Questions.ipynb",
      "private_outputs": true,
      "provenance": [],
      "authorship_tag": "ABX9TyN1/Bc4AuZeJ6bLSkTjCqt9",
      "include_colab_link": true
    },
    "kernelspec": {
      "name": "python3",
      "display_name": "Python 3"
    },
    "language_info": {
      "name": "python"
    }
  },
  "cells": [
    {
      "cell_type": "markdown",
      "metadata": {
        "id": "view-in-github",
        "colab_type": "text"
      },
      "source": [
        "<a href=\"https://colab.research.google.com/github/WellcomePeujio/CarPrediction-on-Python/blob/main/Top_Python_Interview_Questions.ipynb\" target=\"_parent\"><img src=\"https://colab.research.google.com/assets/colab-badge.svg\" alt=\"Open In Colab\"/></a>"
      ]
    },
    {
      "cell_type": "markdown",
      "source": [
        "\n",
        "\n",
        "# 1.**What are the *key features* of Python?** \n",
        "\n",
        "\n"
      ],
      "metadata": {
        "id": "N1RB51aqLxEj"
      }
    },
    {
      "cell_type": "markdown",
      "source": [
        "\n",
        "\n",
        "### 1.   Python is free and open-source\n",
        "###2.  It is an object-oriented language\n",
        "\n",
        "\n",
        "###3.   Easy to learn due to its clear syntax and readability\n",
        "###4.  Easy to interpret, making debugging very easy\n",
        "\n",
        "###5. Easily integrated with other languages like C++, Java and more.\n",
        "\n",
        "\n",
        "\n",
        "\n",
        "\n",
        "\n"
      ],
      "metadata": {
        "id": "b586xz47MYgK"
      }
    },
    {
      "cell_type": "markdown",
      "source": [
        "\n",
        "\n",
        "# 2.   **What are *keywords* in Python?**\n",
        "\n",
        "\n"
      ],
      "metadata": {
        "id": "q5yWlgV2N-RF"
      }
    },
    {
      "cell_type": "markdown",
      "source": [
        "\n",
        "\n",
        "*   Keywords are reserved  words which are used as identifiers, function names and more\n",
        "\n",
        "*   They help define the structure and syntax of the language\n",
        "\n",
        "*   There are *33 keywords* in Python 3.7 andhere are some of them: \n",
        "*   **Keywords**: False, None, True, and, break, if, else, for, return, continue, def etc.\n"
      ],
      "metadata": {
        "id": "VdoAB53MPL_B"
      }
    },
    {
      "cell_type": "markdown",
      "source": [
        "\n",
        "\n",
        "#3.   **What are *literals* in Python**\n",
        "\n",
        "\n",
        "\n",
        "\n",
        "\n",
        "\n",
        "\n",
        "\n",
        "\n",
        "\n"
      ],
      "metadata": {
        "id": "ipGubfyaQhRk"
      }
    },
    {
      "cell_type": "markdown",
      "source": [
        "*  Literals in Python refer to the data that is given in a variable or constant\n",
        "*   There are four types of literals:\n",
        "           \n",
        "\n",
        "            *   Stringliterals: Sequence of characters enclosed in quotes\n",
        "            *   Numeric literals: Integer,float, and complex numbers \n",
        "            *   Boolean literals:Represents TRUE or FALSE\n",
        "            *   Special literals:'None' is a good example "
      ],
      "metadata": {
        "id": "AVVq22lSTTXP"
      }
    },
    {
      "cell_type": "code",
      "source": [
        ""
      ],
      "metadata": {
        "id": "0M0dNOCEMWLz"
      },
      "execution_count": null,
      "outputs": []
    },
    {
      "cell_type": "markdown",
      "source": [
        "\n",
        "\n",
        "# 4.   **How can you concatenate two tuples?** \n",
        "\n",
        "\n"
      ],
      "metadata": {
        "id": "CFdVXd3ATs1b"
      }
    },
    {
      "cell_type": "code",
      "source": [
        "tup1= (1,'a',True)\n",
        "tup2=(4,5,6)\n",
        "print(tup1 + tup2)\n"
      ],
      "metadata": {
        "id": "ULdiKoWgT-Dl"
      },
      "execution_count": null,
      "outputs": []
    },
    {
      "cell_type": "markdown",
      "source": [
        "\n",
        "\n",
        "# 5.   **What are *functions* in Python?** \n",
        "\n",
        "\n"
      ],
      "metadata": {
        "id": "zfeUFurpUxWv"
      }
    },
    {
      "cell_type": "markdown",
      "source": [
        "\n",
        "\n",
        "*   Functions in Python refer to **blocks** that are organized, reusable pieces of code that perform single, and related events.\n",
        "\n",
        "*   Functions are **important** to create better modularity for applications which reuse high degree of coding.\n",
        "*   Python has a number of built-in functions like **print()** and allows of user-defined functions as well.\n",
        "\n",
        "\n",
        "\n",
        "\n"
      ],
      "metadata": {
        "id": "a3bnegteVFHI"
      }
    },
    {
      "cell_type": "markdown",
      "source": [
        "\n",
        "\n",
        "# 6.   **How can you initialize a 5x5 NumPy array with only zeroes**\n",
        "\n",
        "\n"
      ],
      "metadata": {
        "id": "a48hVbDRWn5E"
      }
    },
    {
      "cell_type": "code",
      "source": [
        "pip install numpy"
      ],
      "metadata": {
        "id": "3GppqwxXXI6n"
      },
      "execution_count": null,
      "outputs": []
    },
    {
      "cell_type": "code",
      "source": [
        "import numpy as np\n",
        "\n",
        "n1 = np.zeros((5,5))\n",
        "print(n1)"
      ],
      "metadata": {
        "id": "erzNWTgZX7GI"
      },
      "execution_count": null,
      "outputs": []
    },
    {
      "cell_type": "markdown",
      "source": [
        "\n",
        "\n",
        "# 7.   **What is *Pandas* ?** \n",
        "\n",
        "\n"
      ],
      "metadata": {
        "id": "_LBud_iKYMlZ"
      }
    },
    {
      "cell_type": "markdown",
      "source": [
        "\n",
        "\n",
        "*   Pandas is an **open-source library** that has very rich set of data structures for data based operations. \n",
        "\n",
        "*   Pandas can deal with a **large variety of files** and is one of the most important tools to have a grip on.\n",
        "*   It provides two fantastic data structures \n",
        "     -- **Series and DataFrames!**\n",
        "\n",
        "\n",
        "\n",
        "\n"
      ],
      "metadata": {
        "id": "fp9SWBlGY0J6"
      }
    },
    {
      "cell_type": "code",
      "source": [
        ""
      ],
      "metadata": {
        "id": "hGF2cKqRaC1A"
      },
      "execution_count": null,
      "outputs": []
    },
    {
      "cell_type": "markdown",
      "source": [
        "\n",
        "\n",
        "# 8.   **What are DataFrames?**\n",
        "\n",
        "\n"
      ],
      "metadata": {
        "id": "oHKvDHypaEtg"
      }
    },
    {
      "cell_type": "markdown",
      "source": [
        "\n",
        "\n",
        "*   DataFrames are **mutable datatypes** present in the Pandas library\n",
        "\n",
        "*   Provides support for heterogeneous data\n",
        "*   Here is how a **CSV file** can be read using pandas:\n",
        "      \n",
        "\n",
        "                *   df= pd.read_csv(\"mydata.csv\")\n",
        "                *   Let's check it out practically!\n",
        "\n",
        "\n"
      ],
      "metadata": {
        "id": "oJn3e3KqaeIT"
      }
    },
    {
      "cell_type": "code",
      "source": [
        ""
      ],
      "metadata": {
        "id": "VAnrF_qobrPt"
      },
      "execution_count": null,
      "outputs": []
    },
    {
      "cell_type": "markdown",
      "source": [
        "\n",
        "\n",
        "# 9.   **What is a Pandas Series ?**\n",
        "\n",
        "\n"
      ],
      "metadata": {
        "id": "zi-JwukCcByZ"
      }
    },
    {
      "cell_type": "markdown",
      "source": [
        "\n",
        "\n",
        "*   Series is a **one-dimensional Pandas data structure** that supports data of almost any type.\n",
        "\n",
        "*   It supports mutiple operations and is used for single dimensional data operations.\n",
        "*   Let us create Series practically and check it out!\n"
      ],
      "metadata": {
        "id": "cXWgtprccQ4I"
      }
    },
    {
      "cell_type": "code",
      "source": [
        "import pandas as pd\n",
        "\n",
        "data = ['1', 2, 'three',4.0]\n",
        "series=pd.Series(data)\n",
        "print(series)\n",
        "print(type(series)) #However we have many type of variables, the type is panda.Series"
      ],
      "metadata": {
        "id": "glnnN3TYdVTM"
      },
      "execution_count": null,
      "outputs": []
    },
    {
      "cell_type": "markdown",
      "source": [
        "\n",
        "\n",
        "# 10.   **What is the use of Pandas *groupby()* funtion ?**\n",
        "\n",
        "\n"
      ],
      "metadata": {
        "id": "1VvrW594eckM"
      }
    },
    {
      "cell_type": "markdown",
      "source": [
        "\n",
        "\n",
        "*   Groupby is a feature supported by pandas which is used to **split and group** an object.\n",
        "\n",
        "*   Like the SQL, MySQL and Oracle groupby, it used to group data by classes and entities which can be further used for aggregation.\n",
        "*   Let's understand this practically!\n",
        "\n",
        "\n",
        "\n"
      ],
      "metadata": {
        "id": "jnmf88Uiez8f"
      }
    },
    {
      "cell_type": "code",
      "source": [
        "df = pd.DataFrame({'Vehicle':['Nissan','Toyota','Ford','KTM RC390','Pulsar 200NS'],'Type':[\"car\",\"car\",\"car\",\"motorcycle\",\"motorcycle\"]})\n",
        "print(df)"
      ],
      "metadata": {
        "id": "KoCThl9cfvmx"
      },
      "execution_count": null,
      "outputs": []
    },
    {
      "cell_type": "code",
      "source": [
        "df.groupby('Type').count()"
      ],
      "metadata": {
        "id": "uTGvrkbHh5KC"
      },
      "execution_count": null,
      "outputs": []
    },
    {
      "cell_type": "markdown",
      "source": [
        ""
      ],
      "metadata": {
        "id": "In5XQYCzjDod"
      }
    },
    {
      "cell_type": "markdown",
      "source": [
        "\n",
        "\n",
        "# 11.   **How to create a DataFrame from *list* ?**\n",
        "\n",
        "\n"
      ],
      "metadata": {
        "id": "wdaIvdpdjp_6"
      }
    },
    {
      "cell_type": "markdown",
      "source": [
        "\n",
        "\n",
        "*  To create a DataFrame from lists, this is what is required:\n",
        "\n",
        "\n",
        "          *   An empty DataFrame\n",
        "          *   Addition of lists as individual columns in the DataFrame\n",
        "          *   Let's solve this practically\n",
        "\n",
        "\n",
        "\n",
        "\n"
      ],
      "metadata": {
        "id": "EsCqldW_j5XU"
      }
    },
    {
      "cell_type": "code",
      "source": [
        "df= pd.DataFrame()\n",
        "\n",
        "bikes=[\"Bajaj\",\"TVS\",\"Honda\",\"Kawasaki\",\"BMW\"]\n",
        "cars=[\"Toyota\",\"Masserati\",\"Ferrari\",\"Lamborghini\",\"Hyundai\"]\n",
        "\n",
        "df[\"cars\"]=cars\n",
        "df[\"bikes\"]=bikes\n",
        "print(df)"
      ],
      "metadata": {
        "id": "8zoexzpukxdc"
      },
      "execution_count": null,
      "outputs": []
    },
    {
      "cell_type": "markdown",
      "source": [
        "\n",
        "\n",
        "# 12.   **How to create DataFrame from a *dictionary*?**\n",
        "\n",
        "\n"
      ],
      "metadata": {
        "id": "qjBTdZwDWvRG"
      }
    },
    {
      "cell_type": "markdown",
      "source": [
        "\n",
        "\n",
        "*  A dictionary can be directly passed as an argument to the **DataFrame()** function to create the data frame.\n",
        "*  Its very straightforward, let's check it out!\n",
        "\n"
      ],
      "metadata": {
        "id": "pwlpPHQ6XMGJ"
      }
    },
    {
      "cell_type": "code",
      "source": [
        "df= pd.DataFrame()\n",
        "\n",
        "bikes=[\"Bajaj\",\"TVS\",\"Honda\",\"Kawasaki\",\"BMW\"]\n",
        "cars=[\"Toyota\",\"Masserati\",\"Ferrari\",\"Lamborghini\",\"Hyundai\"]\n",
        "\n",
        "d={\"cars\":cars, \"bikes\":bikes}\n",
        "df=pd.DataFrame(d)\n",
        "df"
      ],
      "metadata": {
        "id": "nyxmAgpPYho5"
      },
      "execution_count": null,
      "outputs": []
    },
    {
      "cell_type": "markdown",
      "source": [
        ""
      ],
      "metadata": {
        "id": "AwPdm61TaOJa"
      }
    },
    {
      "cell_type": "markdown",
      "source": [
        "\n",
        "\n",
        "# 13.   **How to combine DataFrames using  *join()* function ?**\n",
        "\n",
        "\n"
      ],
      "metadata": {
        "id": "4DYpY_xDaQmt"
      }
    },
    {
      "cell_type": "markdown",
      "source": [
        "\n",
        "\n",
        "*   Join is used when we need to **extract data** from different DataFrames which are having one or more common columns.\n",
        "\n",
        "*   The stacking is done in **horizontal** matter if the join() function is used.\n",
        "*   Pandas supports: **left join, inner join, rigth join and outer join**\n",
        "\n",
        "\n",
        "\n"
      ],
      "metadata": {
        "id": "1gCVHPaJawBK"
      }
    },
    {
      "cell_type": "markdown",
      "source": [
        "\n",
        "\n",
        "# 14.  **Which method wokrs best for vertical stacking of Dataframes ?** \n",
        "\n",
        "\n"
      ],
      "metadata": {
        "id": "SceLNo3HdmgJ"
      }
    },
    {
      "cell_type": "markdown",
      "source": [
        "\n",
        "\n",
        "*   The **concat()** method works best when the DataFrames have the same columns and be used for concatenation of data having similar fields.\n",
        "*   It is used for **vertical stacking** of DataFrames into a single DataFrame.\n",
        "\n"
      ],
      "metadata": {
        "id": "qA2o1BvqeLwP"
      }
    },
    {
      "cell_type": "markdown",
      "source": [
        "\n",
        "\n",
        "# 15.  **How to merge DataFrames in pandas ?**\n",
        "\n",
        "\n"
      ],
      "metadata": {
        "id": "F82gp87dhDEV"
      }
    },
    {
      "cell_type": "markdown",
      "source": [
        "\n",
        "\n",
        "*   Merging depends on the **type and fields** of differents DataFrames being merged.\n",
        "\n",
        "*   If data is having similar fields data is merged along axis 0.\n",
        "*   If the fields are different, they are merged along axis 1.\n",
        "\n",
        "\n",
        "\n",
        "\n"
      ],
      "metadata": {
        "id": "Bj92_3Ilhb0z"
      }
    },
    {
      "cell_type": "markdown",
      "source": [
        "\n",
        "\n",
        "# 16.  **Given a DataFrame, how do you drop all rows having NaN ?**\n",
        "\n",
        "\n",
        "\n"
      ],
      "metadata": {
        "id": "Rfc_ZjT2io_V"
      }
    },
    {
      "cell_type": "markdown",
      "source": [
        "\n",
        "\n",
        "*   The **dropna()** function in pandas hepls do just this!\n",
        "*   Here is what the output looks like after dropping the NaN value:\n",
        "\n"
      ],
      "metadata": {
        "id": "QtxWFtXVi9ZZ"
      }
    },
    {
      "cell_type": "code",
      "source": [
        "d={\"col1\":[1.0,2.0,np.NaN],\"col2\":[\"A\",\"B\",\"C\"]}\n",
        "df=pd.DataFrame(d)\n",
        "df"
      ],
      "metadata": {
        "id": "lrFOWO2PjnZI"
      },
      "execution_count": null,
      "outputs": []
    },
    {
      "cell_type": "code",
      "source": [
        "df.dropna()"
      ],
      "metadata": {
        "id": "x4ufretanQ47"
      },
      "execution_count": null,
      "outputs": []
    },
    {
      "cell_type": "code",
      "source": [
        "df.dropna(axis=1  )"
      ],
      "metadata": {
        "id": "ypSygz5wndC4"
      },
      "execution_count": null,
      "outputs": []
    },
    {
      "cell_type": "markdown",
      "source": [
        "\n",
        "\n",
        "# 17.   **How to access the *first five* and *last five* entries of DataFrame ?**\n",
        "\n",
        "\n"
      ],
      "metadata": {
        "id": "1clu5sz8oKiQ"
      }
    },
    {
      "cell_type": "markdown",
      "source": [
        "\n",
        "\n",
        "*   **First five elements:** The head(5) function outputsthe first five entries in the DataFrame.\n",
        "\n",
        "*   **Last five elements:** The tail(5) function similary returns the last five entries.\n",
        "*   Let's check this out practically!\n",
        "\n",
        "\n",
        "\n"
      ],
      "metadata": {
        "id": "iIkFL8lLouLy"
      }
    },
    {
      "cell_type": "code",
      "source": [
        "#datos reales"
      ],
      "metadata": {
        "id": "CliUwsPhpn1u"
      },
      "execution_count": null,
      "outputs": []
    },
    {
      "cell_type": "markdown",
      "source": [
        "\n",
        "\n",
        "# 18.   **How to access data from a DataFrame using a *value* as index ?**\n",
        "\n",
        "\n"
      ],
      "metadata": {
        "id": "mq1NuNvRqlPu"
      }
    },
    {
      "cell_type": "markdown",
      "source": [
        "\n",
        "\n",
        "*   To fetch a row from Dataframe given index 'x' we can use **loc**\n",
        "*   Let us understand this practically using DataFrames.\n",
        "\n"
      ],
      "metadata": {
        "id": "wPwsop6Pq8nd"
      }
    },
    {
      "cell_type": "code",
      "source": [
        "#code"
      ],
      "metadata": {
        "id": "aDUAwvPPrvrC"
      },
      "execution_count": null,
      "outputs": []
    },
    {
      "cell_type": "markdown",
      "source": [
        "\n",
        "\n",
        "# 19.   **How do you add single-line and multi-line comment in Python ?**\n",
        "\n",
        "\n"
      ],
      "metadata": {
        "id": "yPfhoNm1tyyY"
      }
    },
    {
      "cell_type": "markdown",
      "source": [
        "\n",
        "\n",
        "*   **Single-line comment:** # is used to denote single line comments.\n",
        "*   **Multi-line comment:** \"\"\"comment\"\"\" (Triple quotes are used across many lines)\n",
        "\n",
        "\n"
      ],
      "metadata": {
        "id": "ZIIANCDZuPL_"
      }
    },
    {
      "cell_type": "code",
      "source": [
        "#This is a single comment\n",
        "print(\"nothing to see\")\n",
        "\"\"\"\n",
        "This is all\n",
        "a multi-line \n",
        "comment!\n",
        "\"\"\""
      ],
      "metadata": {
        "id": "0kGeg9Ytu_5p"
      },
      "execution_count": null,
      "outputs": []
    },
    {
      "cell_type": "markdown",
      "source": [
        "\n",
        "\n",
        "# 20.   **What is the memory efficient way to *add elements to a tuple* ?**\n",
        "\n"
      ],
      "metadata": {
        "id": "Q2Dt_jhYwFkU"
      }
    },
    {
      "cell_type": "markdown",
      "source": [
        "\n",
        "\n",
        "*  **THIS IS A TRICK QUESTION!**\n",
        "\n",
        "*   Tuples are **immutable** datatypes in Python.\n",
        "*   You cannot add elements to an existing tuple.\n",
        "\n",
        "*   A new one must be created if the values are to be changed!\n",
        "\n",
        "\n",
        "\n",
        "\n",
        "\n",
        "\n",
        "\n"
      ],
      "metadata": {
        "id": "QXcLNibowmPR"
      }
    },
    {
      "cell_type": "markdown",
      "source": [
        "\n",
        "\n",
        "# 21.   **What is a *dictionary* in python ?**\n",
        "\n",
        "\n",
        "\n",
        "\n",
        "\n",
        "\n"
      ],
      "metadata": {
        "id": "vT1X3Mvex79m"
      }
    },
    {
      "cell_type": "markdown",
      "source": [
        "\n",
        "\n",
        "*   A Python dictionary is a **collection of items** in no particular order.\n",
        "\n",
        "*   Dictionaries are written in curly brackets with keys and values.\n",
        "*   They are optimized to retrieve value for known keys.\n",
        "\n",
        "\n"
      ],
      "metadata": {
        "id": "0UrZeLajySoc"
      }
    },
    {
      "cell_type": "code",
      "source": [
        "d={\"a\":2, \"b\":5}\n",
        "d"
      ],
      "metadata": {
        "id": "8a77zNtAzF7e"
      },
      "execution_count": null,
      "outputs": []
    },
    {
      "cell_type": "markdown",
      "source": [
        "\n",
        "\n",
        "# 22.   **Find out the measures of central tendency for this NumPy array: np.array([1,5,3,100,4,48])**\n",
        "\n"
      ],
      "metadata": {
        "id": "JPM5Em0izZlS"
      }
    },
    {
      "cell_type": "markdown",
      "source": [
        "\n",
        "\n",
        "*   There are readily available functions in NumPy that will help us with this.\n",
        "\n",
        "*   Function such as mean(), median(), std(), are effective at solving this.\n",
        "\n",
        "\n"
      ],
      "metadata": {
        "id": "R_8VJiK_0kE3"
      }
    },
    {
      "cell_type": "code",
      "source": [
        "import numpy as np\n",
        "\n",
        "n=np.array([1,5,3,100,4,48])\n",
        "print(np.mean(n))\n",
        "print(np.median(n))\n",
        "print(np.std(n))"
      ],
      "metadata": {
        "id": "vXUVlC5z1OnA"
      },
      "execution_count": null,
      "outputs": []
    },
    {
      "cell_type": "markdown",
      "source": [
        "\n",
        "\n",
        "# 23.  **What is the use of a *classifier* ?**\n",
        "\n",
        "\n"
      ],
      "metadata": {
        "id": "ebnVRHZ518_B"
      }
    },
    {
      "cell_type": "markdown",
      "source": [
        "\n",
        "\n",
        "*   A classifier is used to **predict** the class of any data point.\n",
        "\n",
        "*   Classifier are **special hypotheses** that are used to assign class labels to any particular data points.\n",
        "*   It often uses training data to understand the relation between input variables and the class.\n",
        "\n",
        "\n",
        "\n"
      ],
      "metadata": {
        "id": "d5qSpJKs2dcy"
      }
    },
    {
      "cell_type": "markdown",
      "source": [
        "\n",
        "\n",
        "# 24.   **How do you convert a string into **lowercase** using Python ?**\n",
        "\n",
        "\n"
      ],
      "metadata": {
        "id": "7cJrb_RG3lN7"
      }
    },
    {
      "cell_type": "markdown",
      "source": [
        "\n",
        "\n",
        "*   All the upper cases in a string can be converted into lowercase by using the method: **string.lower()**\n",
        "\n",
        "\n"
      ],
      "metadata": {
        "id": "ruhv2-2u355e"
      }
    },
    {
      "cell_type": "code",
      "source": [
        "string= 'HaPPY NEW YeaR'\n",
        "print(string.lower())"
      ],
      "metadata": {
        "id": "OXhFZLab4YuC"
      },
      "execution_count": null,
      "outputs": []
    },
    {
      "cell_type": "markdown",
      "source": [
        "\n",
        "\n",
        "# 25.   **How do you get a list of all the keys in a dictionary ?**\n",
        "\n",
        "\n"
      ],
      "metadata": {
        "id": "L1fhnmh95Dik"
      }
    },
    {
      "cell_type": "markdown",
      "source": [
        "\n",
        "\n",
        "*  One of the ways we can get a list of keys is by using: **dict.keys()**\n",
        "*  This method returns all the available keys in the dictionary.\n",
        "\n"
      ],
      "metadata": {
        "id": "ihZ6rxCq5h3K"
      }
    },
    {
      "cell_type": "code",
      "source": [
        "dict={2:'a',4:'b',6:'c'}\n",
        "dict.keys()"
      ],
      "metadata": {
        "id": "RHdoCV_T6H6m"
      },
      "execution_count": null,
      "outputs": []
    },
    {
      "cell_type": "markdown",
      "source": [
        "\n",
        "\n",
        "# 26.  **How can you *capitalize* the first letter of a string ?**\n",
        "\n",
        "\n"
      ],
      "metadata": {
        "id": "fAyUuBCp62Om"
      }
    },
    {
      "cell_type": "markdown",
      "source": [
        "\n",
        "\n",
        "*   We can use the **capitlize()** function to capitalize the first character of a string.\n",
        "*   If the first character is already in capital then it returns the original string.\n",
        "\n",
        "\n"
      ],
      "metadata": {
        "id": "d0Lqsn6e7LEi"
      }
    },
    {
      "cell_type": "code",
      "source": [
        "p= \"happy new year\"\n",
        "print(p.capitalize())"
      ],
      "metadata": {
        "id": "XcKMQ_fV7zOM"
      },
      "execution_count": null,
      "outputs": []
    },
    {
      "cell_type": "markdown",
      "source": [
        "\n",
        "\n",
        "# 27.   **How can you insert an element at a given index in Python ?**\n",
        "\n",
        "\n"
      ],
      "metadata": {
        "id": "sAtR-0Zq8wJF"
      }
    },
    {
      "cell_type": "markdown",
      "source": [
        "\n",
        "\n",
        "*  Python has an inbuilt function called the **insert()** function.\n",
        "*  It can be used to insert an element at any given index location.\n",
        "\n"
      ],
      "metadata": {
        "id": "lLn0dS2f9DUY"
      }
    },
    {
      "cell_type": "code",
      "source": [
        "list=[0,1,2,3,4,5,6,7]\n",
        "list.insert(5,300) #insert 300 at 5th index\n",
        "list"
      ],
      "metadata": {
        "id": "81YL4V9c9cRy"
      },
      "execution_count": null,
      "outputs": []
    },
    {
      "cell_type": "markdown",
      "source": [
        "\n",
        "\n",
        "# 28.   **How will you remove duplicate elements from a list ?**\n",
        "\n",
        "\n"
      ],
      "metadata": {
        "id": "0wuUURC_-U10"
      }
    },
    {
      "cell_type": "markdown",
      "source": [
        "\n",
        "\n",
        "*   There are **various methods** to remove duplicate elements from a list.\n",
        "*   The easiest way is tto convert the list into a set by using the set() function and using the list() function to convert it back to list, if required.\n",
        "\n"
      ],
      "metadata": {
        "id": "FMZDZ9bu-j4n"
      }
    },
    {
      "cell_type": "code",
      "source": [
        "del list\n",
        "my_list = [\"x\",\"y\",\"x\",\"y\",\"z\",\"x\"]\n",
        "my_list = list(dict.fromkeys(my_list))\n",
        "print(my_list)"
      ],
      "metadata": {
        "id": "keb1LUoW_O_b"
      },
      "execution_count": null,
      "outputs": []
    },
    {
      "cell_type": "markdown",
      "source": [
        "\n",
        "\n",
        "# 29.  **What is *recursion* ?**\n",
        "\n",
        "\n"
      ],
      "metadata": {
        "id": "FYKocJYrAgj3"
      }
    },
    {
      "cell_type": "markdown",
      "source": [
        "\n",
        "\n",
        "*   Recursion is a *function calling itself* one or more times in it body.\n",
        "\n",
        "*   One important thing to note is to terminate a recursion statement.\n",
        "*   There would bea problem of an infinite loop if recursion is not terminated.\n",
        "\n",
        "\n",
        "\n",
        "\n"
      ],
      "metadata": {
        "id": "sAAv6GA_AxgF"
      }
    },
    {
      "cell_type": "markdown",
      "source": [
        "\n",
        "\n",
        "# 30.   **Explain Python List Comprehension**\n",
        "\n",
        "\n"
      ],
      "metadata": {
        "id": "sExcu_iF_RIL"
      }
    },
    {
      "cell_type": "markdown",
      "source": [
        "\n",
        "\n",
        "*  List  comprehension are used for **transforming** one list into another list. \n",
        "*  Elements can be conditionally included in the new list and each element can be transformed as needed.\n",
        "\n",
        "\n",
        "\n"
      ],
      "metadata": {
        "id": "2ynA4Rb2AX4E"
      }
    },
    {
      "cell_type": "code",
      "source": [
        "list = [i for i in range (100)]\n",
        "print(list)"
      ],
      "metadata": {
        "id": "_vz3yXtmCbVa"
      },
      "execution_count": null,
      "outputs": []
    },
    {
      "cell_type": "markdown",
      "source": [
        "\n",
        "\n",
        "# 31.   **What is the use of *bytes()* function ?**\n",
        "\n",
        "\n"
      ],
      "metadata": {
        "id": "peSAiWnWEyKd"
      }
    },
    {
      "cell_type": "markdown",
      "source": [
        "\n",
        "\n",
        "*   The **bytes()** function returns a simple bytes object.\n",
        "*   It is used to convert objects into bytes objects, or create empty bytes object of the specified size.\n",
        "\n"
      ],
      "metadata": {
        "id": "rlWoneVeJwn5"
      }
    },
    {
      "cell_type": "markdown",
      "source": [
        "\n",
        "\n",
        "# 32.   **What are the different types of operators in Python ?**\n",
        "\n",
        "\n"
      ],
      "metadata": {
        "id": "qL5Cw0roOMKu"
      }
    },
    {
      "cell_type": "markdown",
      "source": [
        "\n",
        "\n",
        "*   **Arithmetic:** +,-,*,/,%\n",
        "\n",
        "*   **Relational:** <,>,<=,>=,!=\n",
        "\n",
        "*   **Assignment:** +=,-=,*=,/=,%=\n",
        "*   **Logica:** and, or, not\n",
        "\n",
        "\n",
        "*   **Others:** Membership, Identity, and Bitwise operators\n",
        "\n",
        "\n",
        "\n",
        "\n"
      ],
      "metadata": {
        "id": "wlm7ciclObUm"
      }
    },
    {
      "cell_type": "markdown",
      "source": [
        "\n",
        "#33.   **What is *with statement* used for in Python ?**\n",
        "\n"
      ],
      "metadata": {
        "id": "TeSaVgoJQPU6"
      }
    },
    {
      "cell_type": "markdown",
      "source": [
        "\n",
        "\n",
        "*   The 'with' statement in python is used in **exception handling.**\n",
        "\n",
        "*   A file can bbe opened and closed while executing a block of code, containing the 'with' statement without using the close() function.\n",
        "*   It essentially makes the code much more easy to read!\n",
        "\n",
        "\n"
      ],
      "metadata": {
        "id": "cvVbL_x7Q45o"
      }
    },
    {
      "cell_type": "markdown",
      "source": [
        "\n",
        "# 34.  **What is a *map()* function in Python ?** \n",
        "\n",
        "\n"
      ],
      "metadata": {
        "id": "QywNPEP9Rzfn"
      }
    },
    {
      "cell_type": "markdown",
      "source": [
        "\n",
        "\n",
        "*   The **map()** function in python is used for applying a function on all elements of a specified iterable. \n",
        "*   It consists of two parameters, function and iterable.\n",
        "\n",
        "\n",
        "\n"
      ],
      "metadata": {
        "id": "JwG0SSXBSEWk"
      }
    },
    {
      "cell_type": "code",
      "source": [
        ""
      ],
      "metadata": {
        "id": "GHQeJR-OUUhj"
      },
      "execution_count": null,
      "outputs": []
    },
    {
      "cell_type": "code",
      "source": [
        "\n",
        "\n",
        "def add_func(n):\n",
        "  return n*3\n",
        "num = (1,2,3,4,5,6)\n",
        "result = map(add_func, num)\n",
        "print(list(result))"
      ],
      "metadata": {
        "id": "qrH3If2vS1Q_"
      },
      "execution_count": null,
      "outputs": []
    },
    {
      "cell_type": "markdown",
      "source": [
        "\n",
        "\n",
        "# 35.   **What is *_ __init_ _ _* in Python ?**\n",
        "\n",
        "\n"
      ],
      "metadata": {
        "id": "Jom1yVqXWVyP"
      }
    },
    {
      "cell_type": "markdown",
      "source": [
        "\n",
        "\n",
        "*   The _init_ methodology is a **reserved method** in python.\n",
        "*   It is also known as a constructor in the world of OOP.\n",
        "*   When an object is created from a class, the _init_ methodology is called to access the class attributes.\n",
        "\n",
        "\n"
      ],
      "metadata": {
        "id": "Mzgrf26iW7tK"
      }
    },
    {
      "cell_type": "markdown",
      "source": [
        "\n",
        "\n",
        "#36.   **What are the tools present to perform *static* analysis ?**\n",
        "\n",
        "\n"
      ],
      "metadata": {
        "id": "5Ajj8qFTZHhL"
      }
    },
    {
      "cell_type": "markdown",
      "source": [
        "\n",
        "\n",
        "*   The two static analysis tools used to find bugs in python are Pychecker and Pylint.\n",
        "\n",
        "*   **Pychecker** detects bugs from the source code and warns about its style and complexity.\n",
        "*   **Pylint** checks whether the module matches up to a set coding standard or not.\n",
        "\n",
        "\n",
        "\n",
        "\n"
      ],
      "metadata": {
        "id": "uUv-N_RIZa45"
      }
    }
  ]
}